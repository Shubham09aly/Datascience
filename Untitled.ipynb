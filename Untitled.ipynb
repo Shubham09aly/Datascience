{
 "cells": [
  {
   "cell_type": "markdown",
   "id": "41db3860",
   "metadata": {},
   "source": [
    "##Create an anonymous function which will print the sum of all the elements in this list -> [5, 8, 10, 20, 50, 100]"
   ]
  },
  {
   "cell_type": "code",
   "execution_count": 5,
   "id": "68dd297b",
   "metadata": {},
   "outputs": [
    {
     "name": "stdout",
     "output_type": "stream",
     "text": [
      "193\n"
     ]
    }
   ],
   "source": [
    "lst = [5, 8, 10, 20, 50, 100]\n",
    "\n",
    "#sum(lst)\n",
    "from functools import reduce\n",
    "print(reduce(lambda x,y:x+y, lst))"
   ]
  },
  {
   "cell_type": "markdown",
   "id": "7acec47f",
   "metadata": {},
   "source": [
    "## Write a python program to print an arithmetic table for any number using lambda"
   ]
  },
  {
   "cell_type": "code",
   "execution_count": 19,
   "id": "90db0c2b",
   "metadata": {},
   "outputs": [
    {
     "name": "stdout",
     "output_type": "stream",
     "text": [
      "Enter a number to find arithmatic table:4\n",
      "4 x 1 = 4\n",
      "4 x 2 = 8\n",
      "4 x 3 = 12\n",
      "4 x 4 = 16\n",
      "4 x 5 = 20\n",
      "4 x 6 = 24\n",
      "4 x 7 = 28\n",
      "4 x 8 = 32\n",
      "4 x 9 = 36\n",
      "4 x 10 = 40\n"
     ]
    }
   ],
   "source": [
    "n = int(input(\"Enter a number to find arithmatic table:\"))\n",
    "\n",
    "def arithmatic(num):\n",
    "    if num == 0:\n",
    "        return(\"Enter a valid number\")\n",
    "    else:\n",
    "        num2 = 1\n",
    "        while num2<=10:\n",
    "            print(f\"{num} x {num2} = {num*num2}\")\n",
    "            num2 += 1\n",
    "        \n",
    "arithmatic(n)"
   ]
  },
  {
   "cell_type": "code",
   "execution_count": 21,
   "id": "4e56e5c0",
   "metadata": {},
   "outputs": [
    {
     "name": "stdout",
     "output_type": "stream",
     "text": [
      "Enter a number to find arithmatic table:4\n",
      "4 x 1 = 4\n",
      "4 x 2 = 8\n",
      "4 x 3 = 12\n",
      "4 x 4 = 16\n",
      "4 x 5 = 20\n",
      "4 x 6 = 24\n",
      "4 x 7 = 28\n",
      "4 x 8 = 32\n",
      "4 x 9 = 36\n",
      "4 x 10 = 40\n"
     ]
    }
   ],
   "source": [
    "num = int(input(\"Enter a number to find arithmatic table:\"))\n",
    "\n",
    "def arithmatic(n):\n",
    "    return lambda a:a*n\n",
    "\n",
    "b = arithmatic(num)\n",
    "for i in range(1,11):\n",
    "    print(f\"{num} x {i} = {b(i)}\")"
   ]
  },
  {
   "cell_type": "code",
   "execution_count": 22,
   "id": "bd389bce",
   "metadata": {},
   "outputs": [
    {
     "name": "stdout",
     "output_type": "stream",
     "text": [
      "Enter a number:2\n",
      "2 X 1 = 2\n",
      "2 X 2 = 4\n",
      "2 X 3 = 6\n",
      "2 X 4 = 8\n",
      "2 X 5 = 10\n",
      "2 X 6 = 12\n",
      "2 X 7 = 14\n",
      "2 X 8 = 16\n",
      "2 X 9 = 18\n",
      "2 X 10 = 20\n"
     ]
    }
   ],
   "source": [
    "n = int(input(\"Enter a number:\"))\n",
    "\n",
    "b = lambda a:a*n\n",
    "\n",
    "for i in range(1,11):\n",
    "    print(\"{} X {} = {}\".format(n,i,b(i)))\n",
    "\n",
    "#lambda args1,args2,ars3....: Expression"
   ]
  },
  {
   "cell_type": "markdown",
   "id": "a1aba1f5",
   "metadata": {},
   "source": [
    "## [4:05 PM] RAJENDRAN Surendrakumar\n",
    "    Program 3 :\n",
    "A TrainComposition is built by attaching and detaching wagons from the left and the right sides, efficiently with \n",
    "respect to time used.\n",
    "For example, if we start by attaching wagon 7 from the left followed by attaching wagon 13 again from the left, we get a composition of two wagons (13 and 7 from left to right). Now the first wagon that can be detatched from the right is 7 and the first can be\n",
    "detached from the left is 13. \n",
    "Implement a TrainComposition that models this problem\n",
    "\n",
    "Hint : Write 3 python functions, \n",
    "      Attaching wagon from left      Detatch wagon from right      Detatch wagon from left\n"
   ]
  },
  {
   "cell_type": "code",
   "execution_count": 25,
   "id": "ad985bd3",
   "metadata": {},
   "outputs": [
    {
     "data": {
      "text/plain": [
       "[13, 7]"
      ]
     },
     "execution_count": 25,
     "metadata": {},
     "output_type": "execute_result"
    }
   ],
   "source": [
    "wagon_lst = []\n",
    "\n",
    "def attachWagon(n):\n",
    "    wagon_lst.append(n)\n",
    "    return wagon_lst\n",
    "\n",
    "def detachWagonRight():\n",
    "    detWagon = wagon_lst[1]\n",
    "    return detWagon\n",
    "\n",
    "def detachWagonLeft():\n",
    "    detWagon = wagon_lst[0]\n",
    "    return detWagon\n",
    "\n",
    "attachWagon(13)\n",
    "attachWagon(7)"
   ]
  },
  {
   "cell_type": "code",
   "execution_count": 26,
   "id": "b0c0b7b0",
   "metadata": {},
   "outputs": [
    {
     "data": {
      "text/plain": [
       "7"
      ]
     },
     "execution_count": 26,
     "metadata": {},
     "output_type": "execute_result"
    }
   ],
   "source": [
    "detachWagonRight()"
   ]
  },
  {
   "cell_type": "code",
   "execution_count": 27,
   "id": "9d4360aa",
   "metadata": {},
   "outputs": [
    {
     "data": {
      "text/plain": [
       "13"
      ]
     },
     "execution_count": 27,
     "metadata": {},
     "output_type": "execute_result"
    }
   ],
   "source": [
    "detachWagonLeft()"
   ]
  },
  {
   "cell_type": "code",
   "execution_count": 31,
   "id": "f33cbd4b",
   "metadata": {},
   "outputs": [
    {
     "name": "stdout",
     "output_type": "stream",
     "text": [
      "[13, 7]\n",
      "7\n",
      "13\n"
     ]
    }
   ],
   "source": [
    "wagon_lst = []\n",
    "\n",
    "def attachWagon(n1,n2):\n",
    "    wagon_lst.extend([n1,n2])\n",
    "    return wagon_lst\n",
    "\n",
    "def detachWagonRight():\n",
    "    detWagon = wagon_lst[1]\n",
    "    return detWagon\n",
    "\n",
    "def detachWagonLeft():\n",
    "    detWagon = wagon_lst[0]\n",
    "    return detWagon\n",
    "\n",
    "print(attachWagon(13,7))\n",
    "print(detachWagonRight())\n",
    "print(detachWagonLeft())"
   ]
  },
  {
   "cell_type": "code",
   "execution_count": 64,
   "id": "5d7ced4f",
   "metadata": {},
   "outputs": [],
   "source": [
    "import pandas as pd\n",
    "\n",
    "data = (13,7)\n",
    "columns = (\"FirstWagon\",\"SecondWagon\")\n",
    "df = pd.DataFrame([columns,data])"
   ]
  },
  {
   "cell_type": "code",
   "execution_count": 65,
   "id": "befc3334",
   "metadata": {},
   "outputs": [
    {
     "data": {
      "text/html": [
       "<div>\n",
       "<style scoped>\n",
       "    .dataframe tbody tr th:only-of-type {\n",
       "        vertical-align: middle;\n",
       "    }\n",
       "\n",
       "    .dataframe tbody tr th {\n",
       "        vertical-align: top;\n",
       "    }\n",
       "\n",
       "    .dataframe thead th {\n",
       "        text-align: right;\n",
       "    }\n",
       "</style>\n",
       "<table border=\"1\" class=\"dataframe\">\n",
       "  <thead>\n",
       "    <tr style=\"text-align: right;\">\n",
       "      <th></th>\n",
       "      <th>0</th>\n",
       "      <th>1</th>\n",
       "    </tr>\n",
       "  </thead>\n",
       "  <tbody>\n",
       "    <tr>\n",
       "      <th>0</th>\n",
       "      <td>FirstWagon</td>\n",
       "      <td>SecondWagon</td>\n",
       "    </tr>\n",
       "    <tr>\n",
       "      <th>1</th>\n",
       "      <td>13</td>\n",
       "      <td>7</td>\n",
       "    </tr>\n",
       "  </tbody>\n",
       "</table>\n",
       "</div>"
      ],
      "text/plain": [
       "            0            1\n",
       "0  FirstWagon  SecondWagon\n",
       "1          13            7"
      ]
     },
     "execution_count": 65,
     "metadata": {},
     "output_type": "execute_result"
    }
   ],
   "source": [
    "df"
   ]
  },
  {
   "cell_type": "code",
   "execution_count": 66,
   "id": "02f518e1",
   "metadata": {},
   "outputs": [
    {
     "data": {
      "text/plain": [
       "0    SecondWagon\n",
       "1              7\n",
       "Name: 1, dtype: object"
      ]
     },
     "execution_count": 66,
     "metadata": {},
     "output_type": "execute_result"
    }
   ],
   "source": [
    "df[1]"
   ]
  },
  {
   "cell_type": "code",
   "execution_count": 60,
   "id": "bdf7a190",
   "metadata": {},
   "outputs": [
    {
     "data": {
      "text/plain": [
       "0    FirstWagon\n",
       "1            13\n",
       "Name: 0, dtype: object"
      ]
     },
     "execution_count": 60,
     "metadata": {},
     "output_type": "execute_result"
    }
   ],
   "source": [
    "df[0]"
   ]
  },
  {
   "cell_type": "code",
   "execution_count": 67,
   "id": "e3ff3399",
   "metadata": {},
   "outputs": [
    {
     "data": {
      "text/plain": [
       "14"
      ]
     },
     "execution_count": 67,
     "metadata": {},
     "output_type": "execute_result"
    }
   ],
   "source": [
    "lst = [1,3,4,6]\n",
    "sum(lst)"
   ]
  },
  {
   "cell_type": "code",
   "execution_count": 138,
   "id": "8bae5ca7",
   "metadata": {},
   "outputs": [],
   "source": [
    "import random\n",
    "\n",
    "lst = []\n",
    "for i in range(0,10):\n",
    "    a = random.randint(1,100)\n",
    "    lst.append(a)\n",
    "    "
   ]
  },
  {
   "cell_type": "code",
   "execution_count": 139,
   "id": "0c749da3",
   "metadata": {},
   "outputs": [
    {
     "data": {
      "text/plain": [
       "[70, 34, 98, 76, 46, 38, 60, 42, 60, 1]"
      ]
     },
     "execution_count": 139,
     "metadata": {},
     "output_type": "execute_result"
    }
   ],
   "source": [
    "lst"
   ]
  },
  {
   "cell_type": "code",
   "execution_count": 211,
   "id": "1be773f1",
   "metadata": {},
   "outputs": [
    {
     "name": "stdout",
     "output_type": "stream",
     "text": [
      "this-is-a-string\n"
     ]
    }
   ],
   "source": [
    "def split_and_join(line):\n",
    "    if line != \"\":\n",
    "        word_line = line.split(\" \")\n",
    "        new_line  = \"-\".join(word_line)\n",
    "        print(new_line)\n",
    "    \n",
    "split_and_join(\"this is a string\") \n"
   ]
  },
  {
   "cell_type": "code",
   "execution_count": 237,
   "id": "164fc97c",
   "metadata": {},
   "outputs": [],
   "source": [
    "string = \"charactercter\"\n",
    "sub_string = \"cter\"\n",
    "\n",
    "a = string.count(sub_string)"
   ]
  },
  {
   "cell_type": "code",
   "execution_count": 239,
   "id": "ac406263",
   "metadata": {},
   "outputs": [
    {
     "data": {
      "text/plain": [
       "2"
      ]
     },
     "execution_count": 239,
     "metadata": {},
     "output_type": "execute_result"
    }
   ],
   "source": [
    "a"
   ]
  },
  {
   "cell_type": "code",
   "execution_count": null,
   "id": "5a0ce7e1",
   "metadata": {},
   "outputs": [],
   "source": []
  },
  {
   "cell_type": "code",
   "execution_count": null,
   "id": "807a5a90",
   "metadata": {},
   "outputs": [],
   "source": []
  }
 ],
 "metadata": {
  "kernelspec": {
   "display_name": "Python 3 (ipykernel)",
   "language": "python",
   "name": "python3"
  },
  "language_info": {
   "codemirror_mode": {
    "name": "ipython",
    "version": 3
   },
   "file_extension": ".py",
   "mimetype": "text/x-python",
   "name": "python",
   "nbconvert_exporter": "python",
   "pygments_lexer": "ipython3",
   "version": "3.9.1"
  }
 },
 "nbformat": 4,
 "nbformat_minor": 5
}
